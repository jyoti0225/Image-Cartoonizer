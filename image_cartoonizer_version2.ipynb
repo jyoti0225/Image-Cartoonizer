{
 "cells": [
  {
   "cell_type": "code",
   "execution_count": 21,
   "metadata": {},
   "outputs": [],
   "source": [
    "import argparse\n",
    "import time\n",
    "import numpy as np\n",
    "from collections import defaultdict\n",
    "from scipy import stats\n",
    "import cv2\n",
    "\n",
    "%matplotlib inline \n",
    "import matplotlib.pyplot as plt"
   ]
  },
  {
   "cell_type": "code",
   "execution_count": 77,
   "metadata": {},
   "outputs": [],
   "source": [
    "def cartoonize(image):\n",
    "    \"\"\"\n",
    "    convert image into cartoon-like image\n",
    "    image: input PIL image\n",
    "    \"\"\"\n",
    "\n",
    "    output = np.array(image)\n",
    "    x, y, c = output.shape\n",
    "    hists = []\n",
    "    for i in range(c):\n",
    "        output[:, :, i] = cv2.bilateralFilter(output[:, :, i], 5, 50, 50)\n",
    "#         hist, _ = np.histogram(output[:, :, i], bins=np.arange(256+1))\n",
    "#         hists.append(hist)\n",
    "    edge = cv2.Canny(output, 100, 200)\n",
    "    show_image(output)\n",
    "    output = cv2.cvtColor(output, cv2.COLOR_RGB2HSV)\n",
    "\n",
    "    #H\n",
    "    hist, _ = np.histogram(output[:, :, 0], bins=np.arange(180+1))\n",
    "    hists.append(hist)\n",
    "    #S\n",
    "    hist, _ = np.histogram(output[:, :, 1], bins=np.arange(256+1))\n",
    "    hists.append(hist)\n",
    "    #V\n",
    "    hist, _ = np.histogram(output[:, :, 2], bins=np.arange(256+1))\n",
    "    hists.append(hist)\n",
    "\n",
    "    C = []\n",
    "    for h in hists:\n",
    "        C.append(k_histogram(h))\n",
    "    print(\"centroids: {0}\".format(C))\n",
    "    show_image(output)\n",
    "    output = output.reshape((-1, c))\n",
    "    for i in range(c):\n",
    "        channel = output[:, i]\n",
    "        index = np.argmin(np.abs(channel[:, np.newaxis] - C[i]), axis=1)\n",
    "        output[:, i] = C[i][index]\n",
    "    output = output.reshape((x, y, c))\n",
    "    show_image(output)\n",
    "    output = cv2.cvtColor(output, cv2.COLOR_HSV2RGB)\n",
    "    show_image(edge)\n",
    "    contours, _ = cv2.findContours(edge,\n",
    "                                   cv2.RETR_EXTERNAL,\n",
    "                                   cv2.CHAIN_APPROX_NONE)\n",
    "    # for i in range(len(contours)):\n",
    "    #     tmp = contours[i]\n",
    "    #     contours[i] = cv2.approxPolyDP(tmp, 2, False)\n",
    "    show_image(cv2.drawContours(output, contours, -1, 0, thickness=1))\n",
    "    return output\n"
   ]
  },
  {
   "cell_type": "code",
   "execution_count": 78,
   "metadata": {},
   "outputs": [],
   "source": [
    "def update_C(C, hist):\n",
    "    \"\"\"\n",
    "    update centroids until they don't change\n",
    "    \"\"\"\n",
    "    while True:\n",
    "        groups = defaultdict(list)\n",
    "        #assign pixel values\n",
    "        for i in range(len(hist)):\n",
    "            if hist[i] == 0:\n",
    "                continue\n",
    "            d = np.abs(C-i)\n",
    "            index = np.argmin(d)\n",
    "            groups[index].append(i)\n",
    "\n",
    "        new_C = np.array(C)\n",
    "        for i, indice in groups.items():\n",
    "            if np.sum(hist[indice]) == 0:\n",
    "                continue\n",
    "            new_C[i] = int(np.sum(indice*hist[indice])/np.sum(hist[indice]))\n",
    "        if np.sum(new_C-C) == 0:\n",
    "            break\n",
    "        C = new_C\n",
    "    return C, groups"
   ]
  },
  {
   "cell_type": "code",
   "execution_count": 79,
   "metadata": {},
   "outputs": [],
   "source": [
    "def k_histogram(hist):\n",
    "    \"\"\"\n",
    "    choose the best K for k-means and get the centroids\n",
    "    \"\"\"\n",
    "    alpha = 0.001              # p-value threshold for normaltest\n",
    "    N = 80                      # minimun group size for normaltest\n",
    "    C = np.array([128])\n",
    "\n",
    "    while True:\n",
    "        C, groups = update_C(C, hist)\n",
    "\n",
    "        #start increase K if possible\n",
    "        new_C = set()     # use set to avoid same value when seperating centroid\n",
    "        for i, indice in groups.items():\n",
    "            #if there are not enough values in the group, do not seperate\n",
    "            if len(indice) < N:\n",
    "                new_C.add(C[i])\n",
    "                continue\n",
    "\n",
    "            # judge whether we should seperate the centroid\n",
    "            # by testing if the values of the group is under a\n",
    "            # normal distribution\n",
    "            z, pval = stats.normaltest(hist[indice])\n",
    "            if pval < alpha:\n",
    "                #not a normal dist, seperate\n",
    "                left = 0 if i == 0 else C[i-1]\n",
    "                right = len(hist)-1 if i == len(C)-1 else C[i+1]\n",
    "                delta = right-left\n",
    "                if delta >= 3:\n",
    "                    c1 = (C[i]+left)/2\n",
    "                    c2 = (C[i]+right)/2\n",
    "                    new_C.add(c1)\n",
    "                    new_C.add(c2)\n",
    "                else:\n",
    "                    # though it is not a normal dist, we have no\n",
    "                    # extra space to seperate\n",
    "                    new_C.add(C[i])\n",
    "            else:\n",
    "                # normal dist, no need to seperate\n",
    "                new_C.add(C[i])\n",
    "        if len(new_C) == len(C):\n",
    "            break\n",
    "        else:\n",
    "            C = np.array(sorted(new_C))\n",
    "    return C"
   ]
  },
  {
   "cell_type": "code",
   "execution_count": 80,
   "metadata": {},
   "outputs": [],
   "source": [
    "def show_image(img):\n",
    "    cv2.imshow('Image' , img)\n",
    "    cv2.waitKey(0)\n",
    "    cv2.destroyAllWindows()"
   ]
  },
  {
   "cell_type": "code",
   "execution_count": 81,
   "metadata": {},
   "outputs": [],
   "source": [
    "#Load Image\n",
    "image = cv2.imread(r'input_img1.jpg')\n",
    "show_image(image)"
   ]
  },
  {
   "cell_type": "code",
   "execution_count": 82,
   "metadata": {},
   "outputs": [
    {
     "name": "stdout",
     "output_type": "stream",
     "text": [
      "centroids: [array([ 19., 100., 125.]), array([102]), array([ 95., 142., 193.])]\n"
     ]
    }
   ],
   "source": [
    "output = cartoonize(image)\n",
    "show_image(output)"
   ]
  },
  {
   "cell_type": "code",
   "execution_count": 62,
   "metadata": {},
   "outputs": [
    {
     "data": {
      "image/png": "[encoded data removed]",
      "text/plain": [
       "<Figure size 576x576 with 1 Axes>"
      ]
     },
     "metadata": {
      "needs_background": "light"
     },
     "output_type": "display_data"
    }
   ],
   "source": [
    "#Display output\n",
    "plt.figure(num = 1, figsize=(8,8))\n",
    "plt.imshow(cv2.cvtColor(output, cv2.COLOR_BGR2RGB))\n",
    "plt.title('Cartoonizing Image', fontsize=26)\n",
    "plt.gca().axes.get_yaxis().set_visible(False)\n",
    "plt.gca().axes.get_xaxis().set_visible(False)\n",
    "plt.show()"
   ]
  },
  {
   "cell_type": "code",
   "execution_count": null,
   "metadata": {},
   "outputs": [],
   "source": []
  },
  {
   "cell_type": "code",
   "execution_count": null,
   "metadata": {},
   "outputs": [],
   "source": []
  },
  {
   "cell_type": "code",
   "execution_count": null,
   "metadata": {},
   "outputs": [],
   "source": []
  }
 ],
 "metadata": {
  "kernelspec": {
   "display_name": "Python 3",
   "language": "python",
   "name": "python3"
  },
  "language_info": {
   "codemirror_mode": {
    "name": "ipython",
    "version": 3
   },
   "file_extension": ".py",
   "mimetype": "text/x-python",
   "name": "python",
   "nbconvert_exporter": "python",
   "pygments_lexer": "ipython3",
   "version": "3.7.3"
  }
 },
 "nbformat": 4,
 "nbformat_minor": 2
}
